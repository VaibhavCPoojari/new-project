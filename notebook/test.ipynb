{
 "cells": [
  {
   "cell_type": "code",
   "execution_count": 1,
   "id": "69bd4f1e",
   "metadata": {},
   "outputs": [
    {
     "name": "stdout",
     "output_type": "stream",
     "text": [
      "hi\n"
     ]
    }
   ],
   "source": [
    "print(\"hi\")"
   ]
  },
  {
   "cell_type": "code",
   "execution_count": 2,
   "id": "3677a90e",
   "metadata": {},
   "outputs": [],
   "source": [
    "model_path=\"D:\\DA\\ML PROJECT\\artifacts\\model.pkl\"\n",
    "preprocessor_path=\"D:\\DA\\ML PROJECT\\artifacts\\preprocessor.pkl\""
   ]
  },
  {
   "cell_type": "code",
   "execution_count": 4,
   "id": "4d31b696",
   "metadata": {},
   "outputs": [
    {
     "name": "stdout",
     "output_type": "stream",
     "text": [
      "✅ Model and Preprocessor loaded successfully!\n"
     ]
    }
   ],
   "source": [
    "import pickle\n",
    "import joblib\n",
    "\n",
    "# Paths\n",
    "model_path = r\"D:\\DA\\ML PROJECT\\artifacts\\model.pkl\"\n",
    "preprocessor_path = r\"D:\\DA\\ML PROJECT\\artifacts\\preprocessor.pkl\"\n",
    "\n",
    "# Using joblib (preferred for scikit-learn objects)\n",
    "model = joblib.load(model_path)\n",
    "preprocessor = joblib.load(preprocessor_path)\n",
    "\n",
    "# If joblib doesn’t work, fall back to pickle\n",
    "# with open(model_path, \"rb\") as f:\n",
    "#     model = pickle.load(f)\n",
    "# with open(preprocessor_path, \"rb\") as f:\n",
    "#     preprocessor = pickle.load(f)\n",
    "\n",
    "print(\"✅ Model and Preprocessor loaded successfully!\")\n"
   ]
  },
  {
   "cell_type": "code",
   "execution_count": 11,
   "id": "ce4fd047",
   "metadata": {},
   "outputs": [
    {
     "name": "stdout",
     "output_type": "stream",
     "text": [
      "Input Data:\n"
     ]
    },
    {
     "data": {
      "text/html": [
       "<div>\n",
       "<style scoped>\n",
       "    .dataframe tbody tr th:only-of-type {\n",
       "        vertical-align: middle;\n",
       "    }\n",
       "\n",
       "    .dataframe tbody tr th {\n",
       "        vertical-align: top;\n",
       "    }\n",
       "\n",
       "    .dataframe thead th {\n",
       "        text-align: right;\n",
       "    }\n",
       "</style>\n",
       "<table border=\"1\" class=\"dataframe\">\n",
       "  <thead>\n",
       "    <tr style=\"text-align: right;\">\n",
       "      <th></th>\n",
       "      <th>gender</th>\n",
       "      <th>race_ethnicity</th>\n",
       "      <th>parental_level_of_education</th>\n",
       "      <th>lunch</th>\n",
       "      <th>test_preparation_course</th>\n",
       "      <th>reading_score</th>\n",
       "      <th>writing_score</th>\n",
       "    </tr>\n",
       "  </thead>\n",
       "  <tbody>\n",
       "    <tr>\n",
       "      <th>0</th>\n",
       "      <td>female</td>\n",
       "      <td>group B</td>\n",
       "      <td>bachelor's degree</td>\n",
       "      <td>standard</td>\n",
       "      <td>completed</td>\n",
       "      <td>72</td>\n",
       "      <td>74</td>\n",
       "    </tr>\n",
       "  </tbody>\n",
       "</table>\n",
       "</div>"
      ],
      "text/plain": [
       "   gender race_ethnicity parental_level_of_education     lunch  \\\n",
       "0  female        group B           bachelor's degree  standard   \n",
       "\n",
       "  test_preparation_course  reading_score  writing_score  \n",
       "0               completed             72             74  "
      ]
     },
     "metadata": {},
     "output_type": "display_data"
    },
    {
     "name": "stdout",
     "output_type": "stream",
     "text": [
      "Predicted Math Score: [62.5]\n"
     ]
    }
   ],
   "source": [
    "import pandas as pd\n",
    "import joblib\n",
    "\n",
    "# Load model and preprocessor\n",
    "model = joblib.load(r\"D:\\DA\\ML PROJECT\\artifacts\\model.pkl\")\n",
    "preprocessor = joblib.load(r\"D:\\DA\\ML PROJECT\\artifacts\\preprocessor.pkl\")\n",
    "\n",
    "# Create sample data (same format as training features)\n",
    "sample_data = pd.DataFrame({\n",
    "    \"gender\": [\"female\"],\n",
    "    \"race_ethnicity\": [\"group B\"],\n",
    "    \"parental_level_of_education\": [\"bachelor's degree\"],\n",
    "    \"lunch\": [\"standard\"],\n",
    "    \"test_preparation_course\": [\"completed\"],\n",
    "    \"reading_score\": [72],\n",
    "    \"writing_score\": [74]\n",
    "})\n",
    "\n",
    "print(\"Input Data:\")\n",
    "display(sample_data)\n",
    "\n",
    "# Transform features\n",
    "data_scaled = preprocessor.transform(sample_data)\n",
    "\n",
    "# Predict\n",
    "prediction = model.predict(data_scaled)\n",
    "print(\"Predicted Math Score:\", prediction)\n"
   ]
  }
 ],
 "metadata": {
  "kernelspec": {
   "display_name": "Python 3",
   "language": "python",
   "name": "python3"
  },
  "language_info": {
   "codemirror_mode": {
    "name": "ipython",
    "version": 3
   },
   "file_extension": ".py",
   "mimetype": "text/x-python",
   "name": "python",
   "nbconvert_exporter": "python",
   "pygments_lexer": "ipython3",
   "version": "3.8.0"
  }
 },
 "nbformat": 4,
 "nbformat_minor": 5
}
